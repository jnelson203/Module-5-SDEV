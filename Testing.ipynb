{
 "cells": [
  {
   "cell_type": "code",
   "execution_count": null,
   "id": "e17c893e-7f60-4235-84fc-fe0f747bdae5",
   "metadata": {},
   "outputs": [],
   "source": [
    "def my_sum(iterable):\n",
    "    total = 0\n",
    "    for val in iterable:\n",
    "        total += val\n",
    "    return total\n"
   ]
  },
  {
   "cell_type": "code",
   "execution_count": null,
   "id": "7f6370e7-ffaa-42f0-a083-ff4f716ab2c5",
   "metadata": {},
   "outputs": [],
   "source": [
    "assert my_sum([1, 2, 3]) == 6\n",
    "assert my_sum((1, 2, 3)) == 6\n",
    "\n",
    "try:\n",
    "    assert my_sum((1, 2, 2)) == 6\n",
    "except AssertionError as e:\n",
    "    print(\"AssertionError:\", e)"
   ]
  },
  {
   "cell_type": "code",
   "execution_count": null,
   "id": "5218be84-41c1-4240-83d0-fe30c866a584",
   "metadata": {},
   "outputs": [],
   "source": [
    "import unittest\n",
    "\n",
    "class TestMySum(unittest.TestCase):\n",
    "    def test_list(self):\n",
    "        self.assertEqual(my_sum([1, 2, 3]), 6, \"Should be 6\")\n",
    "\n",
    "    def test_tuple(self):\n",
    "        self.assertEqual(my_sum((1, 2, 3)), 6, \"Should be 6\")\n",
    "\n",
    "    def test_failure(self):\n",
    "        self.assertNotEqual(my_sum((1, 2, 2)), 6, \"Should not be 6\")\n",
    "\n",
    "unittest.main(argv=[''], verbosity=2, exit=False)"
   ]
  },
  {
   "cell_type": "code",
   "execution_count": null,
   "id": "9bf7e238-e703-424d-b4df-56cb25febc6a",
   "metadata": {},
   "outputs": [],
   "source": [
    "The test results verify that my_sum() functions correctly in standard cases but fails when incorrect expectations are set. This confirms the importance of unit testing:\n",
    "\n",
    "Passing tests assure us that the function behaves correctly for expected inputs.\n",
    "Failing tests highlight potential bugs or incorrect assumptions in test cases.\n",
    "By automating testing, we ensure that future code changes don’t break existing functionality. This is a crucial step in software development for maintaining code reliability."
   ]
  }
 ],
 "metadata": {
  "kernelspec": {
   "display_name": "Python 3 (ipykernel)",
   "language": "python",
   "name": "python3"
  },
  "language_info": {
   "codemirror_mode": {
    "name": "ipython",
    "version": 3
   },
   "file_extension": ".py",
   "mimetype": "text/x-python",
   "name": "python",
   "nbconvert_exporter": "python",
   "pygments_lexer": "ipython3",
   "version": "3.12.7"
  }
 },
 "nbformat": 4,
 "nbformat_minor": 5
}
